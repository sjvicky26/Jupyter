{
  "metadata": {
    "kernelspec": {
      "name": "python",
      "display_name": "Python (Pyodide)",
      "language": "python"
    },
    "language_info": {
      "codemirror_mode": {
        "name": "python",
        "version": 3
      },
      "file_extension": ".py",
      "mimetype": "text/x-python",
      "name": "python",
      "nbconvert_exporter": "python",
      "pygments_lexer": "ipython3",
      "version": "3.8"
    }
  },
  "nbformat_minor": 5,
  "nbformat": 4,
  "cells": [
    {
      "cell_type": "markdown",
      "source": "# Data science Tools and Ecosystem\n\n",
      "metadata": {},
      "id": "c49042fb-cfb3-46b3-819e-1e668c523c07"
    },
    {
      "cell_type": "markdown",
      "source": "## In this notebook, Data Science Tools and Ecosystem are summarized.",
      "metadata": {},
      "id": "ac88b86a-2660-4a7d-ba34-071b57508917"
    },
    {
      "cell_type": "markdown",
      "source": "### Some of the popular languages that Data Scientists use are:\n\n- Python\n- R\n- SQL\n- Julia \n- Scala\n- Matlab",
      "metadata": {},
      "id": "fdb5a3fd-cf62-45d8-9015-4c07eb047a37"
    },
    {
      "cell_type": "markdown",
      "source": "### Some of the commonly used libraries used by Data Scientists include:\n\n- Numpy\n- Pandas\n- Matplotlib\n- Seabron\n- TensorFlow\n",
      "metadata": {},
      "id": "9421ec16-76d7-490e-96ec-4ba62ebcbc82"
    },
    {
      "cell_type": "markdown",
      "source": "| Data Science Tools |\n|--------------------|\n| Jupyter Notebook   |\n| RStudio            |\n| Visual Studio Code|\n",
      "metadata": {},
      "id": "f31a2c0e-438d-42fc-894e-4fbb4304b8fd"
    },
    {
      "cell_type": "markdown",
      "source": "### Below are a few examples of evaluating arithmetic expressions in Python",
      "metadata": {},
      "id": "4311df54-84db-4336-bec0-7a025cfad19f"
    },
    {
      "cell_type": "code",
      "source": "# This a simple arithmetic expression to mutiply then add integers\n\n(3*4)+5\n",
      "metadata": {
        "trusted": true
      },
      "execution_count": 5,
      "outputs": [
        {
          "execution_count": 5,
          "output_type": "execute_result",
          "data": {
            "text/plain": "17"
          },
          "metadata": {}
        }
      ],
      "id": "1ebedeba-6582-424b-a370-52004ef97224"
    },
    {
      "cell_type": "code",
      "source": "# This will convert 200 minutes to hours by diving by 60\n\nminutes = 200\nhours = minutes / 60\nhours\n",
      "metadata": {
        "trusted": true
      },
      "execution_count": 6,
      "outputs": [
        {
          "execution_count": 6,
          "output_type": "execute_result",
          "data": {
            "text/plain": "3.3333333333333335"
          },
          "metadata": {}
        }
      ],
      "id": "e769aff8-a95f-49e4-997a-b2b4a7ebfc9c"
    },
    {
      "cell_type": "markdown",
      "source": "**Objectives:**\n\n- List popular languages for Data Science.\n- Introduce commonly used libraries for data manipulation and analysis.\n- Explore different development environment tools used by Data Scientists.\n- Provide an overview of basic code cells and Markdown formatting in Jupyter Notebook.\n- Highlight the importance of comments in code cells for better code understanding.\n",
      "metadata": {},
      "id": "598506c3-c779-4d7d-99c1-fc768b1d0e65"
    },
    {
      "cell_type": "markdown",
      "source": "## Author\nVignesh",
      "metadata": {},
      "id": "6b44cff7-377d-4ad9-8977-b38c2c3cde68"
    }
  ]
}